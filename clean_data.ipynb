{
 "cells": [
  {
   "cell_type": "code",
   "execution_count": 34,
   "metadata": {},
   "outputs": [],
   "source": [
    "import pandas as pd\n",
    "import numpy as np\n",
    "import re"
   ]
  },
  {
   "cell_type": "code",
   "execution_count": 7,
   "metadata": {},
   "outputs": [],
   "source": [
    "lag = pd.read_csv('lag_houses.csv')"
   ]
  },
  {
   "cell_type": "code",
   "execution_count": 8,
   "metadata": {},
   "outputs": [
    {
     "data": {
      "text/html": [
       "<div>\n",
       "<style scoped>\n",
       "    .dataframe tbody tr th:only-of-type {\n",
       "        vertical-align: middle;\n",
       "    }\n",
       "\n",
       "    .dataframe tbody tr th {\n",
       "        vertical-align: top;\n",
       "    }\n",
       "\n",
       "    .dataframe thead th {\n",
       "        text-align: right;\n",
       "    }\n",
       "</style>\n",
       "<table border=\"1\" class=\"dataframe\">\n",
       "  <thead>\n",
       "    <tr style=\"text-align: right;\">\n",
       "      <th></th>\n",
       "      <th>Description</th>\n",
       "      <th>Title</th>\n",
       "      <th>Location</th>\n",
       "      <th>Beds</th>\n",
       "      <th>Baths</th>\n",
       "      <th>Toilets</th>\n",
       "      <th>Is_new</th>\n",
       "      <th>Is_furnished</th>\n",
       "      <th>Is_serviced</th>\n",
       "      <th>Price</th>\n",
       "    </tr>\n",
       "  </thead>\n",
       "  <tbody>\n",
       "    <tr>\n",
       "      <th>0</th>\n",
       "      <td>4 Bedroom Semi Detached Duplex</td>\n",
       "      <td>4 BEDROOM HOUSE FOR SALE</td>\n",
       "      <td>Chevron Lekki Lagos</td>\n",
       "      <td>4.0</td>\n",
       "      <td>5.0</td>\n",
       "      <td>5.0</td>\n",
       "      <td>1</td>\n",
       "      <td>1</td>\n",
       "      <td>1</td>\n",
       "      <td>85000000</td>\n",
       "    </tr>\n",
       "    <tr>\n",
       "      <th>1</th>\n",
       "      <td>5 Bedroom Fully Detached Duplex</td>\n",
       "      <td>5 BEDROOM HOUSE FOR SALE</td>\n",
       "      <td>2nd Toll Gate Oral Estate Lekki Lagos</td>\n",
       "      <td>5.0</td>\n",
       "      <td>6.0</td>\n",
       "      <td>6.0</td>\n",
       "      <td>1</td>\n",
       "      <td>1</td>\n",
       "      <td>0</td>\n",
       "      <td>160000000</td>\n",
       "    </tr>\n",
       "    <tr>\n",
       "      <th>2</th>\n",
       "      <td>4 Bedroom Semi Detached Duplex+ Jacuzzi</td>\n",
       "      <td>4 BEDROOM HOUSE FOR SALE</td>\n",
       "      <td>2nd Toll Gate Lekki Lagos</td>\n",
       "      <td>4.0</td>\n",
       "      <td>5.0</td>\n",
       "      <td>5.0</td>\n",
       "      <td>1</td>\n",
       "      <td>1</td>\n",
       "      <td>0</td>\n",
       "      <td>68000000</td>\n",
       "    </tr>\n",
       "    <tr>\n",
       "      <th>3</th>\n",
       "      <td>5 Bedroom Duplex</td>\n",
       "      <td>5 BEDROOM HOUSE FOR SALE</td>\n",
       "      <td>Ikate Lekki Lagos</td>\n",
       "      <td>5.0</td>\n",
       "      <td>6.0</td>\n",
       "      <td>6.0</td>\n",
       "      <td>1</td>\n",
       "      <td>0</td>\n",
       "      <td>0</td>\n",
       "      <td>290000000</td>\n",
       "    </tr>\n",
       "    <tr>\n",
       "      <th>4</th>\n",
       "      <td>3 Bedroom Apartment</td>\n",
       "      <td>3 BEDROOM HOUSE FOR SALE</td>\n",
       "      <td>Lekki Lagos</td>\n",
       "      <td>3.0</td>\n",
       "      <td>4.0</td>\n",
       "      <td>4.0</td>\n",
       "      <td>1</td>\n",
       "      <td>1</td>\n",
       "      <td>0</td>\n",
       "      <td>150000000</td>\n",
       "    </tr>\n",
       "  </tbody>\n",
       "</table>\n",
       "</div>"
      ],
      "text/plain": [
       "                               Description                     Title  \\\n",
       "0           4 Bedroom Semi Detached Duplex  4 BEDROOM HOUSE FOR SALE   \n",
       "1          5 Bedroom Fully Detached Duplex  5 BEDROOM HOUSE FOR SALE   \n",
       "2  4 Bedroom Semi Detached Duplex+ Jacuzzi  4 BEDROOM HOUSE FOR SALE   \n",
       "3                         5 Bedroom Duplex  5 BEDROOM HOUSE FOR SALE   \n",
       "4                      3 Bedroom Apartment  3 BEDROOM HOUSE FOR SALE   \n",
       "\n",
       "                                Location  Beds  Baths  Toilets  Is_new  \\\n",
       "0                    Chevron Lekki Lagos   4.0    5.0      5.0       1   \n",
       "1  2nd Toll Gate Oral Estate Lekki Lagos   5.0    6.0      6.0       1   \n",
       "2              2nd Toll Gate Lekki Lagos   4.0    5.0      5.0       1   \n",
       "3                      Ikate Lekki Lagos   5.0    6.0      6.0       1   \n",
       "4                            Lekki Lagos   3.0    4.0      4.0       1   \n",
       "\n",
       "   Is_furnished  Is_serviced      Price  \n",
       "0             1            1   85000000  \n",
       "1             1            0  160000000  \n",
       "2             1            0   68000000  \n",
       "3             0            0  290000000  \n",
       "4             1            0  150000000  "
      ]
     },
     "execution_count": 8,
     "metadata": {},
     "output_type": "execute_result"
    }
   ],
   "source": [
    "lag.head()"
   ]
  },
  {
   "cell_type": "code",
   "execution_count": null,
   "metadata": {},
   "outputs": [],
   "source": [
    "# check for duplicates\n",
    "lag.duplicated().sum()"
   ]
  },
  {
   "cell_type": "code",
   "execution_count": 20,
   "metadata": {},
   "outputs": [],
   "source": [
    "# remove duplicates\n",
    "lag.drop_duplicates(inplace=True)"
   ]
  },
  {
   "cell_type": "code",
   "execution_count": 23,
   "metadata": {},
   "outputs": [
    {
     "data": {
      "text/plain": [
       "Description     False\n",
       "Title           False\n",
       "Location        False\n",
       "Beds             True\n",
       "Baths            True\n",
       "Toilets          True\n",
       "Is_new          False\n",
       "Is_furnished    False\n",
       "Is_serviced     False\n",
       "Price           False\n",
       "dtype: bool"
      ]
     },
     "execution_count": 23,
     "metadata": {},
     "output_type": "execute_result"
    }
   ],
   "source": [
    "# check for null or missing values\n",
    "lag.isna().any()"
   ]
  },
  {
   "attachments": {},
   "cell_type": "markdown",
   "metadata": {},
   "source": [
    "Beds, Baths and Toilets all have missing values. Let's look at those more keenly."
   ]
  },
  {
   "cell_type": "code",
   "execution_count": null,
   "metadata": {},
   "outputs": [],
   "source": [
    "lag.isna().sum()"
   ]
  },
  {
   "cell_type": "code",
   "execution_count": null,
   "metadata": {},
   "outputs": [],
   "source": [
    "lag[lag.Beds.isna()]\n",
    "# the missing values probably overlap"
   ]
  },
  {
   "attachments": {},
   "cell_type": "markdown",
   "metadata": {},
   "source": [
    "The number of rows with missing values is negligible, so drop."
   ]
  },
  {
   "cell_type": "code",
   "execution_count": 26,
   "metadata": {},
   "outputs": [],
   "source": [
    "# to drop all null or missing values\n",
    "lag.dropna(axis=0, inplace=True)"
   ]
  },
  {
   "cell_type": "code",
   "execution_count": 29,
   "metadata": {},
   "outputs": [],
   "source": [
    "# remove whitspace from string columns\n",
    "for col in lag.columns:\n",
    "        if lag[col].dtype == \"object\":\n",
    "            lag[col] = lag[col].str.strip()"
   ]
  },
  {
   "cell_type": "code",
   "execution_count": 35,
   "metadata": {},
   "outputs": [],
   "source": [
    "# some prices are in dollars\n",
    "# to convert all prices to dollars\n",
    "# to convert dtype to float\n",
    "lag[\"Price\"] = [\n",
    "        float(re.findall(\"\\d+\", val.split(\"$\")[1])[0]) * 775\n",
    "        if \"$\" in val\n",
    "        else float(re.findall(\"\\d+\", val)[0])\n",
    "        for val in lag.Price\n",
    "    ]"
   ]
  },
  {
   "cell_type": "code",
   "execution_count": 36,
   "metadata": {},
   "outputs": [
    {
     "name": "stdout",
     "output_type": "stream",
     "text": [
      "<class 'pandas.core.frame.DataFrame'>\n",
      "Int64Index: 21947 entries, 0 to 24772\n",
      "Data columns (total 10 columns):\n",
      " #   Column        Non-Null Count  Dtype  \n",
      "---  ------        --------------  -----  \n",
      " 0   Description   21947 non-null  object \n",
      " 1   Title         21947 non-null  object \n",
      " 2   Location      21947 non-null  object \n",
      " 3   Beds          21947 non-null  float64\n",
      " 4   Baths         21947 non-null  float64\n",
      " 5   Toilets       21947 non-null  float64\n",
      " 6   Is_new        21947 non-null  int64  \n",
      " 7   Is_furnished  21947 non-null  int64  \n",
      " 8   Is_serviced   21947 non-null  int64  \n",
      " 9   Price         21947 non-null  float64\n",
      "dtypes: float64(4), int64(3), object(3)\n",
      "memory usage: 1.8+ MB\n"
     ]
    }
   ],
   "source": [
    "lag.info()"
   ]
  }
 ],
 "metadata": {
  "kernelspec": {
   "display_name": "pprojenv",
   "language": "python",
   "name": "python3"
  },
  "language_info": {
   "codemirror_mode": {
    "name": "ipython",
    "version": 3
   },
   "file_extension": ".py",
   "mimetype": "text/x-python",
   "name": "python",
   "nbconvert_exporter": "python",
   "pygments_lexer": "ipython3",
   "version": "3.11.1"
  },
  "orig_nbformat": 4,
  "vscode": {
   "interpreter": {
    "hash": "5ac23a1eb32c93aaed7ccf8cddc248e911f9776ba7081da2f54b0d7ebba77505"
   }
  }
 },
 "nbformat": 4,
 "nbformat_minor": 2
}
