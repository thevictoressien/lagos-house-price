{
 "cells": [
  {
   "cell_type": "code",
   "execution_count": 1,
   "metadata": {},
   "outputs": [],
   "source": [
    "# import relevant modules and libraries\n",
    "import pandas as pd\n",
    "import numpy as np\n",
    "import re"
   ]
  },
  {
   "cell_type": "markdown",
   "metadata": {},
   "source": [
    "Data to be cleaned is real estate data of property for sale in Lagos. The data and its features described appropriately in the 'data_dictionary.pdf' file found in the files folder in the master branch of the project repository. The data is in csv format. Get started by loading the data using the pandas' 'read_csv' method."
   ]
  },
  {
   "cell_type": "code",
   "execution_count": 2,
   "metadata": {},
   "outputs": [],
   "source": [
    "# load data\n",
    "lag = pd.read_csv('lag_houses.csv')"
   ]
  },
  {
   "cell_type": "markdown",
   "metadata": {},
   "source": [
    "Once dataset has been loaded it is best to take a high level view of the data, this can be done by taking a look at its dimensions using pandas' 'shape' attribute. After this a look at the first few rows using the 'head' method to have a look at some contents of the dataset."
   ]
  },
  {
   "cell_type": "code",
   "execution_count": 3,
   "metadata": {},
   "outputs": [
    {
     "name": "stdout",
     "output_type": "stream",
     "text": [
      "(24773, 10)\n"
     ]
    },
    {
     "data": {
      "text/html": [
       "<div>\n",
       "<style scoped>\n",
       "    .dataframe tbody tr th:only-of-type {\n",
       "        vertical-align: middle;\n",
       "    }\n",
       "\n",
       "    .dataframe tbody tr th {\n",
       "        vertical-align: top;\n",
       "    }\n",
       "\n",
       "    .dataframe thead th {\n",
       "        text-align: right;\n",
       "    }\n",
       "</style>\n",
       "<table border=\"1\" class=\"dataframe\">\n",
       "  <thead>\n",
       "    <tr style=\"text-align: right;\">\n",
       "      <th></th>\n",
       "      <th>Description</th>\n",
       "      <th>Title</th>\n",
       "      <th>Location</th>\n",
       "      <th>Beds</th>\n",
       "      <th>Baths</th>\n",
       "      <th>Toilets</th>\n",
       "      <th>Is_new</th>\n",
       "      <th>Is_furnished</th>\n",
       "      <th>Is_serviced</th>\n",
       "      <th>Price</th>\n",
       "    </tr>\n",
       "  </thead>\n",
       "  <tbody>\n",
       "    <tr>\n",
       "      <th>0</th>\n",
       "      <td>4 Bedroom Semi Detached Duplex</td>\n",
       "      <td>4 BEDROOM HOUSE FOR SALE</td>\n",
       "      <td>Chevron Lekki Lagos</td>\n",
       "      <td>4.0</td>\n",
       "      <td>5.0</td>\n",
       "      <td>5.0</td>\n",
       "      <td>1</td>\n",
       "      <td>1</td>\n",
       "      <td>1</td>\n",
       "      <td>85000000</td>\n",
       "    </tr>\n",
       "    <tr>\n",
       "      <th>1</th>\n",
       "      <td>5 Bedroom Fully Detached Duplex</td>\n",
       "      <td>5 BEDROOM HOUSE FOR SALE</td>\n",
       "      <td>2nd Toll Gate Oral Estate Lekki Lagos</td>\n",
       "      <td>5.0</td>\n",
       "      <td>6.0</td>\n",
       "      <td>6.0</td>\n",
       "      <td>1</td>\n",
       "      <td>1</td>\n",
       "      <td>0</td>\n",
       "      <td>160000000</td>\n",
       "    </tr>\n",
       "    <tr>\n",
       "      <th>2</th>\n",
       "      <td>4 Bedroom Semi Detached Duplex+ Jacuzzi</td>\n",
       "      <td>4 BEDROOM HOUSE FOR SALE</td>\n",
       "      <td>2nd Toll Gate Lekki Lagos</td>\n",
       "      <td>4.0</td>\n",
       "      <td>5.0</td>\n",
       "      <td>5.0</td>\n",
       "      <td>1</td>\n",
       "      <td>1</td>\n",
       "      <td>0</td>\n",
       "      <td>68000000</td>\n",
       "    </tr>\n",
       "    <tr>\n",
       "      <th>3</th>\n",
       "      <td>5 Bedroom Duplex</td>\n",
       "      <td>5 BEDROOM HOUSE FOR SALE</td>\n",
       "      <td>Ikate Lekki Lagos</td>\n",
       "      <td>5.0</td>\n",
       "      <td>6.0</td>\n",
       "      <td>6.0</td>\n",
       "      <td>1</td>\n",
       "      <td>0</td>\n",
       "      <td>0</td>\n",
       "      <td>290000000</td>\n",
       "    </tr>\n",
       "    <tr>\n",
       "      <th>4</th>\n",
       "      <td>3 Bedroom Apartment</td>\n",
       "      <td>3 BEDROOM HOUSE FOR SALE</td>\n",
       "      <td>Lekki Lagos</td>\n",
       "      <td>3.0</td>\n",
       "      <td>4.0</td>\n",
       "      <td>4.0</td>\n",
       "      <td>1</td>\n",
       "      <td>1</td>\n",
       "      <td>0</td>\n",
       "      <td>150000000</td>\n",
       "    </tr>\n",
       "  </tbody>\n",
       "</table>\n",
       "</div>"
      ],
      "text/plain": [
       "                               Description                     Title  \\\n",
       "0           4 Bedroom Semi Detached Duplex  4 BEDROOM HOUSE FOR SALE   \n",
       "1          5 Bedroom Fully Detached Duplex  5 BEDROOM HOUSE FOR SALE   \n",
       "2  4 Bedroom Semi Detached Duplex+ Jacuzzi  4 BEDROOM HOUSE FOR SALE   \n",
       "3                         5 Bedroom Duplex  5 BEDROOM HOUSE FOR SALE   \n",
       "4                      3 Bedroom Apartment  3 BEDROOM HOUSE FOR SALE   \n",
       "\n",
       "                                Location  Beds  Baths  Toilets  Is_new  \\\n",
       "0                    Chevron Lekki Lagos   4.0    5.0      5.0       1   \n",
       "1  2nd Toll Gate Oral Estate Lekki Lagos   5.0    6.0      6.0       1   \n",
       "2              2nd Toll Gate Lekki Lagos   4.0    5.0      5.0       1   \n",
       "3                      Ikate Lekki Lagos   5.0    6.0      6.0       1   \n",
       "4                            Lekki Lagos   3.0    4.0      4.0       1   \n",
       "\n",
       "   Is_furnished  Is_serviced      Price  \n",
       "0             1            1   85000000  \n",
       "1             1            0  160000000  \n",
       "2             1            0   68000000  \n",
       "3             0            0  290000000  \n",
       "4             1            0  150000000  "
      ]
     },
     "execution_count": 3,
     "metadata": {},
     "output_type": "execute_result"
    }
   ],
   "source": [
    "# peek at data\n",
    "print(lag.shape)\n",
    "lag.head()"
   ]
  },
  {
   "cell_type": "markdown",
   "metadata": {},
   "source": [
    "As seen above the data set has 24,773 rows and 10 columns. From this view we can infer what types of data are present in the dataset. To be certain about the data types we take a look at them we use pandas' 'info' method"
   ]
  },
  {
   "cell_type": "code",
   "execution_count": 4,
   "metadata": {},
   "outputs": [
    {
     "name": "stdout",
     "output_type": "stream",
     "text": [
      "<class 'pandas.core.frame.DataFrame'>\n",
      "RangeIndex: 24773 entries, 0 to 24772\n",
      "Data columns (total 10 columns):\n",
      " #   Column        Non-Null Count  Dtype  \n",
      "---  ------        --------------  -----  \n",
      " 0   Description   24773 non-null  object \n",
      " 1   Title         24773 non-null  object \n",
      " 2   Location      24773 non-null  object \n",
      " 3   Beds          24270 non-null  float64\n",
      " 4   Baths         24170 non-null  float64\n",
      " 5   Toilets       24154 non-null  float64\n",
      " 6   Is_new        24773 non-null  int64  \n",
      " 7   Is_furnished  24773 non-null  int64  \n",
      " 8   Is_serviced   24773 non-null  int64  \n",
      " 9   Price         24773 non-null  object \n",
      "dtypes: float64(3), int64(3), object(4)\n",
      "memory usage: 1.9+ MB\n"
     ]
    }
   ],
   "source": [
    "# try to undertand data types\n",
    "lag.info()"
   ]
  },
  {
   "cell_type": "markdown",
   "metadata": {},
   "source": [
    "Most columns have data types assigned correctly but the Price column notably has its type as object, this means that the contents of that column are not all floating point numbers as they should be as price is typically a continuous variable. To correct this we take a closer look at the price column to assess what impurities are present."
   ]
  },
  {
   "cell_type": "code",
   "execution_count": 5,
   "metadata": {},
   "outputs": [
    {
     "data": {
      "text/plain": [
       "105             $440000\n",
       "134      130000000/year\n",
       "963            $1100000\n",
       "1024           $1500000\n",
       "1112     300000000/year\n",
       "              ...      \n",
       "23869          $1400000\n",
       "23897          $5000000\n",
       "23899       1500000/sqm\n",
       "24338          $2000000\n",
       "24484          $1500000\n",
       "Name: Price, Length: 408, dtype: object"
      ]
     },
     "execution_count": 5,
     "metadata": {},
     "output_type": "execute_result"
    }
   ],
   "source": [
    "# take closer look at price column\n",
    "lag['Price'][lag['Price'].str.contains(r'[^\\d.]', regex=True, na=False)]"
   ]
  },
  {
   "cell_type": "markdown",
   "metadata": {},
   "source": [
    "As the output above shows there are over 400 dirty entries in the  price column. Some prices are designated in dollars and some prices appear to be for rental properties, this should not be the case as this data is to supposed to contain only properties for sale. Now to clean the price column and change its data type to float. We make use of a list comprehension and the regular expressions 're' module just as we used above to weed out the dirty data."
   ]
  },
  {
   "cell_type": "code",
   "execution_count": 6,
   "metadata": {},
   "outputs": [],
   "source": [
    "lag[\"Price\"] = [float(re.findall(\"\\d+\", val.split(\"$\")[1])[0]) * 775 if \"$\" in val else float(re.findall(\"\\d+\", val)[0]) for val in lag['Price']]"
   ]
  },
  {
   "cell_type": "markdown",
   "metadata": {},
   "source": []
  },
  {
   "cell_type": "markdown",
   "metadata": {},
   "source": [
    "If the code previusly used to check if the price column had any dirty dta is run an Attribute Error is returned as the column no longer has any string datatypes. The conversion to float was also successful because all symbols were successfuly removed."
   ]
  },
  {
   "cell_type": "markdown",
   "metadata": {},
   "source": [
    "Next up, check for missing values"
   ]
  },
  {
   "cell_type": "code",
   "execution_count": 7,
   "metadata": {},
   "outputs": [
    {
     "name": "stdout",
     "output_type": "stream",
     "text": [
      "Description     False\n",
      "Title           False\n",
      "Location        False\n",
      "Beds             True\n",
      "Baths            True\n",
      "Toilets          True\n",
      "Is_new          False\n",
      "Is_furnished    False\n",
      "Is_serviced     False\n",
      "Price           False\n",
      "dtype: bool\n"
     ]
    },
    {
     "data": {
      "text/plain": [
       "Description       0\n",
       "Title             0\n",
       "Location          0\n",
       "Beds            503\n",
       "Baths           603\n",
       "Toilets         619\n",
       "Is_new            0\n",
       "Is_furnished      0\n",
       "Is_serviced       0\n",
       "Price             0\n",
       "dtype: int64"
      ]
     },
     "execution_count": 7,
     "metadata": {},
     "output_type": "execute_result"
    }
   ],
   "source": [
    "# check for missing values\n",
    "print(lag.isna().any()) # to check if any columns have missing values\n",
    "lag.isna().sum() # to get a sum of missing values per column"
   ]
  },
  {
   "cell_type": "markdown",
   "metadata": {},
   "source": [
    "Important to note that while the 'any' method lets you know if any column has null values the 'sum' method applied lets you add the number of missing values to give a total per column."
   ]
  },
  {
   "cell_type": "markdown",
   "metadata": {},
   "source": [
    "The above output shows that only 3 columns have missing or unknown values. Now to know what percentage those missing values constitute per column."
   ]
  },
  {
   "cell_type": "code",
   "execution_count": 8,
   "metadata": {},
   "outputs": [
    {
     "name": "stdout",
     "output_type": "stream",
     "text": [
      "Description     0.000000\n",
      "Title           0.000000\n",
      "Location        0.000000\n",
      "Beds            2.030436\n",
      "Baths           2.434102\n",
      "Toilets         2.498688\n",
      "Is_new          0.000000\n",
      "Is_furnished    0.000000\n",
      "Is_serviced     0.000000\n",
      "Price           0.000000\n",
      "dtype: float64\n"
     ]
    }
   ],
   "source": [
    "# to check percentage of missing values per column\n",
    "print((lag.isna().sum()/ len(lag) *100))"
   ]
  },
  {
   "cell_type": "markdown",
   "metadata": {},
   "source": [
    "The percentage of missing values in those 3 columns doesnt exceed 3% of each column so it is safe to conclude that dropping these columns or imputaton will not have a minimal impact on the outcome of any predictive analysis to be carried out. So to drop the missing values use the 'dropna' method and set appropriate parameters."
   ]
  },
  {
   "cell_type": "code",
   "execution_count": 9,
   "metadata": {},
   "outputs": [],
   "source": [
    "# drop rows with missing values\n",
    "lag.dropna(axis=0, inplace=True)"
   ]
  },
  {
   "cell_type": "markdown",
   "metadata": {},
   "source": [
    "Next, check for duplicate data.Use the 'duplicated' method with the 'sum' method chained to it to get the number of missing values. Like below:"
   ]
  },
  {
   "cell_type": "code",
   "execution_count": 21,
   "metadata": {},
   "outputs": [
    {
     "data": {
      "text/plain": [
       "0"
      ]
     },
     "execution_count": 21,
     "metadata": {},
     "output_type": "execute_result"
    }
   ],
   "source": [
    "# check for duplicates\n",
    "lag.duplicated().sum()"
   ]
  },
  {
   "cell_type": "markdown",
   "metadata": {},
   "source": [
    "A seen above there are 2150 duplicate rows in in the data.That data needs to be dropped."
   ]
  },
  {
   "cell_type": "code",
   "execution_count": 20,
   "metadata": {},
   "outputs": [],
   "source": [
    "# remove duplicates\n",
    "lag.drop_duplicates(inplace=True)"
   ]
  },
  {
   "cell_type": "markdown",
   "metadata": {},
   "source": [
    "Whitespace can cause all sorts of errors in analysis, so for each column that has string values, the whitespace must be removed."
   ]
  },
  {
   "cell_type": "code",
   "execution_count": 16,
   "metadata": {},
   "outputs": [],
   "source": [
    "# remove whitspace from string columns\n",
    "for col in lag.columns:\n",
    "        if lag[col].dtype == \"object\":\n",
    "            lag[col] = lag[col].str.strip()"
   ]
  },
  {
   "cell_type": "markdown",
   "metadata": {},
   "source": [
    "Now one last look at the data before its is written to a new csv file titled 'cleaned_houses.csv' found in the data file of the master branch."
   ]
  },
  {
   "cell_type": "code",
   "execution_count": 22,
   "metadata": {},
   "outputs": [
    {
     "name": "stdout",
     "output_type": "stream",
     "text": [
      "<class 'pandas.core.frame.DataFrame'>\n",
      "Int64Index: 21937 entries, 0 to 24772\n",
      "Data columns (total 10 columns):\n",
      " #   Column        Non-Null Count  Dtype  \n",
      "---  ------        --------------  -----  \n",
      " 0   Description   21937 non-null  object \n",
      " 1   Title         21937 non-null  object \n",
      " 2   Location      21937 non-null  object \n",
      " 3   Beds          21937 non-null  float64\n",
      " 4   Baths         21937 non-null  float64\n",
      " 5   Toilets       21937 non-null  float64\n",
      " 6   Is_new        21937 non-null  int64  \n",
      " 7   Is_furnished  21937 non-null  int64  \n",
      " 8   Is_serviced   21937 non-null  int64  \n",
      " 9   Price         21937 non-null  float64\n",
      "dtypes: float64(4), int64(3), object(3)\n",
      "memory usage: 1.8+ MB\n"
     ]
    }
   ],
   "source": [
    "lag.info()"
   ]
  },
  {
   "cell_type": "code",
   "execution_count": 23,
   "metadata": {},
   "outputs": [],
   "source": [
    "# write clean data to csv file\n",
    "lag.to_csv(\"cleaned_houses.csv\", index=False)\n"
   ]
  }
 ],
 "metadata": {
  "kernelspec": {
   "display_name": "pprojenv",
   "language": "python",
   "name": "python3"
  },
  "language_info": {
   "codemirror_mode": {
    "name": "ipython",
    "version": 3
   },
   "file_extension": ".py",
   "mimetype": "text/x-python",
   "name": "python",
   "nbconvert_exporter": "python",
   "pygments_lexer": "ipython3",
   "version": "3.11.1"
  },
  "orig_nbformat": 4,
  "vscode": {
   "interpreter": {
    "hash": "5ac23a1eb32c93aaed7ccf8cddc248e911f9776ba7081da2f54b0d7ebba77505"
   }
  }
 },
 "nbformat": 4,
 "nbformat_minor": 2
}
