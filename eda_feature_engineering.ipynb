{
 "cells": [
  {
   "cell_type": "code",
   "execution_count": 1,
   "metadata": {},
   "outputs": [],
   "source": [
    "# import relevant modules and libraries\n",
    "import pandas as pd\n",
    "import numpy as np\n",
    "import matplotlib.pyplot as plt\n",
    "import seaborn as sns"
   ]
  },
  {
   "cell_type": "markdown",
   "metadata": {},
   "source": [
    "## Data Understanding and Preparation"
   ]
  },
  {
   "cell_type": "markdown",
   "metadata": {},
   "source": [
    "To get started with Exploratory Data Analysis(EDA), the data would have to be cleaned and transformed. This step has been performed and steps and directions can be found in the 'clean.ipynb' notebook."
   ]
  },
  {
   "cell_type": "markdown",
   "metadata": {},
   "source": [
    "Now, the data is loaded and exploration commences."
   ]
  },
  {
   "cell_type": "code",
   "execution_count": 2,
   "metadata": {},
   "outputs": [],
   "source": [
    "df = pd.read_csv('cleaned_houses.csv')"
   ]
  },
  {
   "cell_type": "code",
   "execution_count": 3,
   "metadata": {},
   "outputs": [
    {
     "name": "stdout",
     "output_type": "stream",
     "text": [
      "Shape: (19074, 9)\n"
     ]
    },
    {
     "data": {
      "text/html": [
       "<div>\n",
       "<style scoped>\n",
       "    .dataframe tbody tr th:only-of-type {\n",
       "        vertical-align: middle;\n",
       "    }\n",
       "\n",
       "    .dataframe tbody tr th {\n",
       "        vertical-align: top;\n",
       "    }\n",
       "\n",
       "    .dataframe thead th {\n",
       "        text-align: right;\n",
       "    }\n",
       "</style>\n",
       "<table border=\"1\" class=\"dataframe\">\n",
       "  <thead>\n",
       "    <tr style=\"text-align: right;\">\n",
       "      <th></th>\n",
       "      <th>Beds</th>\n",
       "      <th>Baths</th>\n",
       "      <th>Toilets</th>\n",
       "      <th>Is_new</th>\n",
       "      <th>Is_furnished</th>\n",
       "      <th>Is_serviced</th>\n",
       "      <th>Price</th>\n",
       "      <th>Property_type</th>\n",
       "      <th>Location</th>\n",
       "    </tr>\n",
       "  </thead>\n",
       "  <tbody>\n",
       "    <tr>\n",
       "      <th>0</th>\n",
       "      <td>4.0</td>\n",
       "      <td>5.0</td>\n",
       "      <td>5.0</td>\n",
       "      <td>yes</td>\n",
       "      <td>yes</td>\n",
       "      <td>yes</td>\n",
       "      <td>85000000.0</td>\n",
       "      <td>house</td>\n",
       "      <td>Eti-Osa</td>\n",
       "    </tr>\n",
       "    <tr>\n",
       "      <th>1</th>\n",
       "      <td>5.0</td>\n",
       "      <td>6.0</td>\n",
       "      <td>6.0</td>\n",
       "      <td>yes</td>\n",
       "      <td>yes</td>\n",
       "      <td>no</td>\n",
       "      <td>160000000.0</td>\n",
       "      <td>house</td>\n",
       "      <td>Eti-Osa</td>\n",
       "    </tr>\n",
       "    <tr>\n",
       "      <th>2</th>\n",
       "      <td>4.0</td>\n",
       "      <td>5.0</td>\n",
       "      <td>5.0</td>\n",
       "      <td>yes</td>\n",
       "      <td>yes</td>\n",
       "      <td>no</td>\n",
       "      <td>68000000.0</td>\n",
       "      <td>house</td>\n",
       "      <td>Eti-Osa</td>\n",
       "    </tr>\n",
       "    <tr>\n",
       "      <th>3</th>\n",
       "      <td>5.0</td>\n",
       "      <td>6.0</td>\n",
       "      <td>6.0</td>\n",
       "      <td>yes</td>\n",
       "      <td>no</td>\n",
       "      <td>no</td>\n",
       "      <td>290000000.0</td>\n",
       "      <td>house</td>\n",
       "      <td>Eti-Osa</td>\n",
       "    </tr>\n",
       "    <tr>\n",
       "      <th>4</th>\n",
       "      <td>3.0</td>\n",
       "      <td>4.0</td>\n",
       "      <td>4.0</td>\n",
       "      <td>yes</td>\n",
       "      <td>yes</td>\n",
       "      <td>no</td>\n",
       "      <td>150000000.0</td>\n",
       "      <td>house</td>\n",
       "      <td>Eti-Osa</td>\n",
       "    </tr>\n",
       "    <tr>\n",
       "      <th>5</th>\n",
       "      <td>3.0</td>\n",
       "      <td>4.0</td>\n",
       "      <td>4.0</td>\n",
       "      <td>yes</td>\n",
       "      <td>no</td>\n",
       "      <td>yes</td>\n",
       "      <td>85000000.0</td>\n",
       "      <td>house</td>\n",
       "      <td>Eti-Osa</td>\n",
       "    </tr>\n",
       "    <tr>\n",
       "      <th>6</th>\n",
       "      <td>2.0</td>\n",
       "      <td>2.0</td>\n",
       "      <td>3.0</td>\n",
       "      <td>yes</td>\n",
       "      <td>no</td>\n",
       "      <td>yes</td>\n",
       "      <td>70000000.0</td>\n",
       "      <td>house</td>\n",
       "      <td>Eti-Osa</td>\n",
       "    </tr>\n",
       "    <tr>\n",
       "      <th>7</th>\n",
       "      <td>2.0</td>\n",
       "      <td>3.0</td>\n",
       "      <td>3.0</td>\n",
       "      <td>yes</td>\n",
       "      <td>no</td>\n",
       "      <td>yes</td>\n",
       "      <td>180000000.0</td>\n",
       "      <td>house</td>\n",
       "      <td>Eti-Osa</td>\n",
       "    </tr>\n",
       "    <tr>\n",
       "      <th>8</th>\n",
       "      <td>5.0</td>\n",
       "      <td>6.0</td>\n",
       "      <td>6.0</td>\n",
       "      <td>no</td>\n",
       "      <td>no</td>\n",
       "      <td>no</td>\n",
       "      <td>195000000.0</td>\n",
       "      <td>house</td>\n",
       "      <td>Eti-Osa</td>\n",
       "    </tr>\n",
       "    <tr>\n",
       "      <th>9</th>\n",
       "      <td>5.0</td>\n",
       "      <td>6.0</td>\n",
       "      <td>6.0</td>\n",
       "      <td>yes</td>\n",
       "      <td>no</td>\n",
       "      <td>no</td>\n",
       "      <td>550000000.0</td>\n",
       "      <td>house</td>\n",
       "      <td>Eti-Osa</td>\n",
       "    </tr>\n",
       "  </tbody>\n",
       "</table>\n",
       "</div>"
      ],
      "text/plain": [
       "   Beds  Baths  Toilets Is_new Is_furnished Is_serviced        Price  \\\n",
       "0   4.0    5.0      5.0    yes          yes         yes   85000000.0   \n",
       "1   5.0    6.0      6.0    yes          yes          no  160000000.0   \n",
       "2   4.0    5.0      5.0    yes          yes          no   68000000.0   \n",
       "3   5.0    6.0      6.0    yes           no          no  290000000.0   \n",
       "4   3.0    4.0      4.0    yes          yes          no  150000000.0   \n",
       "5   3.0    4.0      4.0    yes           no         yes   85000000.0   \n",
       "6   2.0    2.0      3.0    yes           no         yes   70000000.0   \n",
       "7   2.0    3.0      3.0    yes           no         yes  180000000.0   \n",
       "8   5.0    6.0      6.0     no           no          no  195000000.0   \n",
       "9   5.0    6.0      6.0    yes           no          no  550000000.0   \n",
       "\n",
       "  Property_type Location  \n",
       "0         house  Eti-Osa  \n",
       "1         house  Eti-Osa  \n",
       "2         house  Eti-Osa  \n",
       "3         house  Eti-Osa  \n",
       "4         house  Eti-Osa  \n",
       "5         house  Eti-Osa  \n",
       "6         house  Eti-Osa  \n",
       "7         house  Eti-Osa  \n",
       "8         house  Eti-Osa  \n",
       "9         house  Eti-Osa  "
      ]
     },
     "execution_count": 3,
     "metadata": {},
     "output_type": "execute_result"
    }
   ],
   "source": [
    "# take a look at shape and first 10 rows\n",
    "print(f'Shape: {df.shape}')\n",
    "df.head(10)"
   ]
  },
  {
   "cell_type": "markdown",
   "metadata": {},
   "source": [
    "## Feature Understanding"
   ]
  },
  {
   "cell_type": "markdown",
   "metadata": {},
   "source": [
    "Take a look at the data types of each feature to be sure "
   ]
  },
  {
   "cell_type": "code",
   "execution_count": 4,
   "metadata": {},
   "outputs": [
    {
     "name": "stdout",
     "output_type": "stream",
     "text": [
      "<class 'pandas.core.frame.DataFrame'>\n",
      "RangeIndex: 19074 entries, 0 to 19073\n",
      "Data columns (total 9 columns):\n",
      " #   Column         Non-Null Count  Dtype  \n",
      "---  ------         --------------  -----  \n",
      " 0   Beds           19074 non-null  float64\n",
      " 1   Baths          19074 non-null  float64\n",
      " 2   Toilets        19074 non-null  float64\n",
      " 3   Is_new         19074 non-null  object \n",
      " 4   Is_furnished   19074 non-null  object \n",
      " 5   Is_serviced    19074 non-null  object \n",
      " 6   Price          19074 non-null  float64\n",
      " 7   Property_type  19074 non-null  object \n",
      " 8   Location       19074 non-null  object \n",
      "dtypes: float64(4), object(5)\n",
      "memory usage: 1.3+ MB\n"
     ]
    }
   ],
   "source": [
    "df.info()"
   ]
  },
  {
   "cell_type": "markdown",
   "metadata": {},
   "source": [
    "As can be seen, there are 9 features, 5 are qualitative(categorical) and 4 are quantitative(continuous or discrete). The aim of this section is to use descriptive statistics to summarize each feature. As an example the price faeature, to know things  like,the average price(mean price), the median price, are these two measures the same, why are they not the same, is the data skewed, how skewed, are there outliers. For categorical variables, to know which property type occurs most, what the average price is for each property type "
   ]
  },
  {
   "cell_type": "markdown",
   "metadata": {},
   "source": [
    "### The Price Feature"
   ]
  },
  {
   "cell_type": "code",
   "execution_count": 5,
   "metadata": {},
   "outputs": [
    {
     "name": "stdout",
     "output_type": "stream",
     "text": [
      "Mean = 1319307016.060501\n"
     ]
    }
   ],
   "source": [
    "# the mean price\n",
    "mean = df['Price'].mean()\n",
    "print(f'Mean = {mean}')"
   ]
  },
  {
   "cell_type": "markdown",
   "metadata": {},
   "source": [
    "This shows the mean price to be a billion Naira. At this point, check the median."
   ]
  },
  {
   "cell_type": "code",
   "execution_count": 6,
   "metadata": {},
   "outputs": [
    {
     "name": "stdout",
     "output_type": "stream",
     "text": [
      "Median = 110000000.0\n"
     ]
    }
   ],
   "source": [
    "# the median price\n",
    "median = df['Price'].median()\n",
    "print(f'Median = {median}')"
   ]
  },
  {
   "cell_type": "markdown",
   "metadata": {},
   "source": [
    "So the median price appears much lower than the mean price. Check the maximum and minimum price"
   ]
  },
  {
   "cell_type": "code",
   "execution_count": 7,
   "metadata": {},
   "outputs": [
    {
     "name": "stdout",
     "output_type": "stream",
     "text": [
      "Max = 3487500000000.0\n",
      "Min = 0.0\n"
     ]
    }
   ],
   "source": [
    "max = df['Price'].max()\n",
    "min = df['Price'].min()\n",
    "print(f'Max = {max}')\n",
    "print(f'Min = {min}')"
   ]
  },
  {
   "cell_type": "markdown",
   "metadata": {},
   "source": [
    "Two things of note here, one the record without a price must be removed and two, the maximum price is in the trillions and that appears extremely suspicious. Next check kurtosis and skewness then plot a histogram."
   ]
  },
  {
   "cell_type": "code",
   "execution_count": 8,
   "metadata": {},
   "outputs": [
    {
     "name": "stdout",
     "output_type": "stream",
     "text": [
      "Kurtosis = 3394.6806958154543\n",
      "Skew = 53.81723664659797\n"
     ]
    }
   ],
   "source": [
    "kurtosis = df['Price'].kurt()\n",
    "skew = df['Price'].skew()\n",
    "print(f'Kurtosis = {kurtosis}')\n",
    "print(f'Skew = {skew}')"
   ]
  },
  {
   "cell_type": "markdown",
   "metadata": {},
   "source": [
    "The skew is a positive number so that explains the mean being so much larger than the median, this distribution is positively skewed. The Kurtosis figure means the distribution is leptokurtic and there are either a lot of outliers or an extremely large outlier"
   ]
  },
  {
   "cell_type": "code",
   "execution_count": 25,
   "metadata": {},
   "outputs": [
    {
     "data": {
      "image/png": "[encoded data removed]",
      "text/plain": [
       "<Figure size 500x500 with 1 Axes>"
      ]
     },
     "metadata": {},
     "output_type": "display_data"
    }
   ],
   "source": [
    "# check for outliers(histogram)\n",
    "sns.displot(df['Price'], kde=True, bins=30);"
   ]
  },
  {
   "cell_type": "code",
   "execution_count": 10,
   "metadata": {},
   "outputs": [
    {
     "data": {
      "text/plain": [
       "<AxesSubplot: xlabel='Price'>"
      ]
     },
     "execution_count": 10,
     "metadata": {},
     "output_type": "execute_result"
    },
    {
     "data": {
      "image/png": "[encoded data removed]",
      "text/plain": [
       "<Figure size 640x480 with 1 Axes>"
      ]
     },
     "metadata": {},
     "output_type": "display_data"
    }
   ],
   "source": [
    "# check for outliers(boxplot)\n",
    "sns.boxplot(x=df['Price'])"
   ]
  },
  {
   "cell_type": "markdown",
   "metadata": {},
   "source": [
    "So the plots confirm the presence of outliers. Since the distribution is skewed and does not follow a normal distribution then the InterQuartile Range(IQR) will be used to detect outliers"
   ]
  },
  {
   "cell_type": "code",
   "execution_count": 11,
   "metadata": {},
   "outputs": [],
   "source": [
    "# remove outliers\n",
    "def find_outliers(df):\n",
    "    q1 = df.quantile(0.25)\n",
    "    q3 = df.quantile(0.75)\n",
    "\n",
    "    iqr = q3-q1\n",
    "\n",
    "    outliers = df[((df<(q1-1.5*iqr)) | (df>(q3+1.5*iqr)))]\n",
    "\n",
    "    return outliers"
   ]
  },
  {
   "cell_type": "code",
   "execution_count": 12,
   "metadata": {},
   "outputs": [],
   "source": [
    "price_outliers = find_outliers(df['Price'])"
   ]
  },
  {
   "cell_type": "code",
   "execution_count": 13,
   "metadata": {},
   "outputs": [
    {
     "name": "stdout",
     "output_type": "stream",
     "text": [
      "Number_of_outliers: 1948\n",
      "Minimum outlier value: 405000000.0\n",
      "Maximum outlier value: 3487500000000.0\n"
     ]
    }
   ],
   "source": [
    "print(f'Number_of_outliers: {len(price_outliers)}')\n",
    "print(f'Minimum outlier value: {price_outliers.min()}')\n",
    "print(f'Maximum outlier value: {price_outliers.max()}')"
   ]
  },
  {
   "cell_type": "code",
   "execution_count": 14,
   "metadata": {},
   "outputs": [],
   "source": [
    "# price_outliers.index\n",
    "price_outliers_df = df[df['Price'].isin(price_outliers.values)]"
   ]
  },
  {
   "cell_type": "markdown",
   "metadata": {},
   "source": [
    "According to the data source the highest price for a house listed on their website is  is 1,000,000,000. So values over that figure would be considered outliers especially those in the hundreds of billions and trillions."
   ]
  },
  {
   "cell_type": "markdown",
   "metadata": {},
   "source": [
    "So, drop prices above 1,500,000,000."
   ]
  },
  {
   "cell_type": "code",
   "execution_count": 22,
   "metadata": {},
   "outputs": [],
   "source": [
    "# indices to be dropeed\n",
    "price_outliers_drop = price_outliers_df[price_outliers_df['Price']>1500000000].index"
   ]
  },
  {
   "cell_type": "code",
   "execution_count": 20,
   "metadata": {},
   "outputs": [],
   "source": [
    "# copy dataframe\n",
    "df2 = df.copy()"
   ]
  },
  {
   "cell_type": "code",
   "execution_count": 23,
   "metadata": {},
   "outputs": [],
   "source": [
    "df2.drop(price_outliers_drop, axis=0, inplace=True)"
   ]
  },
  {
   "cell_type": "code",
   "execution_count": 53,
   "metadata": {},
   "outputs": [
    {
     "data": {
      "image/png": "[encoded data removed]",
      "text/plain": [
       "<Figure size 500x500 with 1 Axes>"
      ]
     },
     "metadata": {},
     "output_type": "display_data"
    }
   ],
   "source": [
    "sns.displot(df2['Price'], kde=True, bins=30);"
   ]
  },
  {
   "cell_type": "code",
   "execution_count": 41,
   "metadata": {},
   "outputs": [
    {
     "name": "stdout",
     "output_type": "stream",
     "text": [
      "Kurt  9.614236708677979\n",
      "Skew  2.753632806018766\n"
     ]
    },
    {
     "data": {
      "text/plain": [
       "count    1.885000e+04\n",
       "mean     1.723934e+08\n",
       "std      1.866808e+08\n",
       "min      0.000000e+00\n",
       "25%      6.500000e+07\n",
       "50%      1.100000e+08\n",
       "75%      2.000000e+08\n",
       "max      1.500000e+09\n",
       "Name: Price, dtype: float64"
      ]
     },
     "execution_count": 41,
     "metadata": {},
     "output_type": "execute_result"
    }
   ],
   "source": [
    "print(f'Kurt  {df2[\"Price\"].kurt()}')\n",
    "print(f'Skew  {df2[\"Price\"].skew()}')\n",
    "df2['Price'].describe()"
   ]
  },
  {
   "cell_type": "markdown",
   "metadata": {},
   "source": [
    "Data is still pretty much skewed, but the max value represents something realistic, further transformations will be carried out later. Another thing is to drop values that have 0 in the price column. Alternatively they can be replaced with other values. Lets take a look:"
   ]
  },
  {
   "cell_type": "code",
   "execution_count": 44,
   "metadata": {},
   "outputs": [
    {
     "data": {
      "text/html": [
       "<div>\n",
       "<style scoped>\n",
       "    .dataframe tbody tr th:only-of-type {\n",
       "        vertical-align: middle;\n",
       "    }\n",
       "\n",
       "    .dataframe tbody tr th {\n",
       "        vertical-align: top;\n",
       "    }\n",
       "\n",
       "    .dataframe thead th {\n",
       "        text-align: right;\n",
       "    }\n",
       "</style>\n",
       "<table border=\"1\" class=\"dataframe\">\n",
       "  <thead>\n",
       "    <tr style=\"text-align: right;\">\n",
       "      <th></th>\n",
       "      <th>Beds</th>\n",
       "      <th>Baths</th>\n",
       "      <th>Toilets</th>\n",
       "      <th>Is_new</th>\n",
       "      <th>Is_furnished</th>\n",
       "      <th>Is_serviced</th>\n",
       "      <th>Price</th>\n",
       "      <th>Property_type</th>\n",
       "      <th>Location</th>\n",
       "    </tr>\n",
       "  </thead>\n",
       "  <tbody>\n",
       "    <tr>\n",
       "      <th>12357</th>\n",
       "      <td>4.0</td>\n",
       "      <td>4.0</td>\n",
       "      <td>5.0</td>\n",
       "      <td>no</td>\n",
       "      <td>no</td>\n",
       "      <td>no</td>\n",
       "      <td>0.0</td>\n",
       "      <td>house</td>\n",
       "      <td>Eti-Osa</td>\n",
       "    </tr>\n",
       "  </tbody>\n",
       "</table>\n",
       "</div>"
      ],
      "text/plain": [
       "       Beds  Baths  Toilets Is_new Is_furnished Is_serviced  Price  \\\n",
       "12357   4.0    4.0      5.0     no           no          no    0.0   \n",
       "\n",
       "      Property_type Location  \n",
       "12357         house  Eti-Osa  "
      ]
     },
     "execution_count": 44,
     "metadata": {},
     "output_type": "execute_result"
    }
   ],
   "source": [
    "# rows with 0 price \n",
    "df2[df2.Price == 0]"
   ]
  },
  {
   "cell_type": "code",
   "execution_count": 48,
   "metadata": {},
   "outputs": [],
   "source": [
    "df2.drop(df2[df2.Price == 0].index, axis=0, inplace=True)"
   ]
  },
  {
   "cell_type": "code",
   "execution_count": 65,
   "metadata": {},
   "outputs": [
    {
     "data": {
      "text/plain": [
       "2.9173217279290125"
      ]
     },
     "execution_count": 65,
     "metadata": {},
     "output_type": "execute_result"
    }
   ],
   "source": []
  },
  {
   "cell_type": "markdown",
   "metadata": {},
   "source": [
    "## Feature Relationships"
   ]
  },
  {
   "cell_type": "code",
   "execution_count": null,
   "metadata": {},
   "outputs": [],
   "source": []
  },
  {
   "cell_type": "markdown",
   "metadata": {},
   "source": [
    "## Feature Engineering and Model Building"
   ]
  }
 ],
 "metadata": {
  "kernelspec": {
   "display_name": "pprojenv",
   "language": "python",
   "name": "python3"
  },
  "language_info": {
   "codemirror_mode": {
    "name": "ipython",
    "version": 3
   },
   "file_extension": ".py",
   "mimetype": "text/x-python",
   "name": "python",
   "nbconvert_exporter": "python",
   "pygments_lexer": "ipython3",
   "version": "3.11.1"
  },
  "orig_nbformat": 4,
  "vscode": {
   "interpreter": {
    "hash": "5ac23a1eb32c93aaed7ccf8cddc248e911f9776ba7081da2f54b0d7ebba77505"
   }
  }
 },
 "nbformat": 4,
 "nbformat_minor": 2
}
