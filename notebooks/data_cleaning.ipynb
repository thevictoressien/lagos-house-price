{
 "cells": [
  {
   "cell_type": "code",
   "execution_count": 1,
   "metadata": {},
   "outputs": [],
   "source": [
    "# import relevant modules and libraries\n",
    "import pandas as pd\n",
    "import numpy as np\n",
    "import re"
   ]
  },
  {
   "cell_type": "markdown",
   "metadata": {},
   "source": [
    "Data to be cleaned is real estate data of property for sale in Lagos. The data and its features described appropriately in the 'data_dictionary.pdf' file found in the files folder in the master branch of the project repository. The data is in csv format. Get started by loading the data using the pandas' 'read_csv' method."
   ]
  },
  {
   "cell_type": "code",
   "execution_count": 53,
   "metadata": {},
   "outputs": [],
   "source": [
    "# load data\n",
    "lag = pd.read_csv('lag_houses.csv')"
   ]
  },
  {
   "cell_type": "markdown",
   "metadata": {},
   "source": [
    "Once dataset has been loaded it is best to take a high level view of the data, this can be done by taking a look at its dimensions using pandas' 'shape' attribute. After this a look at the first few rows using the 'head' method to have a look at some contents of the dataset."
   ]
  },
  {
   "cell_type": "code",
   "execution_count": 54,
   "metadata": {},
   "outputs": [
    {
     "name": "stdout",
     "output_type": "stream",
     "text": [
      "Shape:(24773, 10)\n"
     ]
    },
    {
     "data": {
      "text/html": [
       "<div>\n",
       "<style scoped>\n",
       "    .dataframe tbody tr th:only-of-type {\n",
       "        vertical-align: middle;\n",
       "    }\n",
       "\n",
       "    .dataframe tbody tr th {\n",
       "        vertical-align: top;\n",
       "    }\n",
       "\n",
       "    .dataframe thead th {\n",
       "        text-align: right;\n",
       "    }\n",
       "</style>\n",
       "<table border=\"1\" class=\"dataframe\">\n",
       "  <thead>\n",
       "    <tr style=\"text-align: right;\">\n",
       "      <th></th>\n",
       "      <th>Description</th>\n",
       "      <th>Title</th>\n",
       "      <th>Location</th>\n",
       "      <th>Beds</th>\n",
       "      <th>Baths</th>\n",
       "      <th>Toilets</th>\n",
       "      <th>Is_new</th>\n",
       "      <th>Is_furnished</th>\n",
       "      <th>Is_serviced</th>\n",
       "      <th>Price</th>\n",
       "    </tr>\n",
       "  </thead>\n",
       "  <tbody>\n",
       "    <tr>\n",
       "      <th>0</th>\n",
       "      <td>4 Bedroom Semi Detached Duplex</td>\n",
       "      <td>4 BEDROOM HOUSE FOR SALE</td>\n",
       "      <td>Chevron Lekki Lagos</td>\n",
       "      <td>4.0</td>\n",
       "      <td>5.0</td>\n",
       "      <td>5.0</td>\n",
       "      <td>1</td>\n",
       "      <td>1</td>\n",
       "      <td>1</td>\n",
       "      <td>85000000</td>\n",
       "    </tr>\n",
       "    <tr>\n",
       "      <th>1</th>\n",
       "      <td>5 Bedroom Fully Detached Duplex</td>\n",
       "      <td>5 BEDROOM HOUSE FOR SALE</td>\n",
       "      <td>2nd Toll Gate Oral Estate Lekki Lagos</td>\n",
       "      <td>5.0</td>\n",
       "      <td>6.0</td>\n",
       "      <td>6.0</td>\n",
       "      <td>1</td>\n",
       "      <td>1</td>\n",
       "      <td>0</td>\n",
       "      <td>160000000</td>\n",
       "    </tr>\n",
       "    <tr>\n",
       "      <th>2</th>\n",
       "      <td>4 Bedroom Semi Detached Duplex+ Jacuzzi</td>\n",
       "      <td>4 BEDROOM HOUSE FOR SALE</td>\n",
       "      <td>2nd Toll Gate Lekki Lagos</td>\n",
       "      <td>4.0</td>\n",
       "      <td>5.0</td>\n",
       "      <td>5.0</td>\n",
       "      <td>1</td>\n",
       "      <td>1</td>\n",
       "      <td>0</td>\n",
       "      <td>68000000</td>\n",
       "    </tr>\n",
       "    <tr>\n",
       "      <th>3</th>\n",
       "      <td>5 Bedroom Duplex</td>\n",
       "      <td>5 BEDROOM HOUSE FOR SALE</td>\n",
       "      <td>Ikate Lekki Lagos</td>\n",
       "      <td>5.0</td>\n",
       "      <td>6.0</td>\n",
       "      <td>6.0</td>\n",
       "      <td>1</td>\n",
       "      <td>0</td>\n",
       "      <td>0</td>\n",
       "      <td>290000000</td>\n",
       "    </tr>\n",
       "    <tr>\n",
       "      <th>4</th>\n",
       "      <td>3 Bedroom Apartment</td>\n",
       "      <td>3 BEDROOM HOUSE FOR SALE</td>\n",
       "      <td>Lekki Lagos</td>\n",
       "      <td>3.0</td>\n",
       "      <td>4.0</td>\n",
       "      <td>4.0</td>\n",
       "      <td>1</td>\n",
       "      <td>1</td>\n",
       "      <td>0</td>\n",
       "      <td>150000000</td>\n",
       "    </tr>\n",
       "  </tbody>\n",
       "</table>\n",
       "</div>"
      ],
      "text/plain": [
       "                               Description                     Title  \\\n",
       "0           4 Bedroom Semi Detached Duplex  4 BEDROOM HOUSE FOR SALE   \n",
       "1          5 Bedroom Fully Detached Duplex  5 BEDROOM HOUSE FOR SALE   \n",
       "2  4 Bedroom Semi Detached Duplex+ Jacuzzi  4 BEDROOM HOUSE FOR SALE   \n",
       "3                         5 Bedroom Duplex  5 BEDROOM HOUSE FOR SALE   \n",
       "4                      3 Bedroom Apartment  3 BEDROOM HOUSE FOR SALE   \n",
       "\n",
       "                                Location  Beds  Baths  Toilets  Is_new  \\\n",
       "0                    Chevron Lekki Lagos   4.0    5.0      5.0       1   \n",
       "1  2nd Toll Gate Oral Estate Lekki Lagos   5.0    6.0      6.0       1   \n",
       "2              2nd Toll Gate Lekki Lagos   4.0    5.0      5.0       1   \n",
       "3                      Ikate Lekki Lagos   5.0    6.0      6.0       1   \n",
       "4                            Lekki Lagos   3.0    4.0      4.0       1   \n",
       "\n",
       "   Is_furnished  Is_serviced      Price  \n",
       "0             1            1   85000000  \n",
       "1             1            0  160000000  \n",
       "2             1            0   68000000  \n",
       "3             0            0  290000000  \n",
       "4             1            0  150000000  "
      ]
     },
     "execution_count": 54,
     "metadata": {},
     "output_type": "execute_result"
    }
   ],
   "source": [
    "# peek at data\n",
    "print(f'Shape:{lag.shape}')\n",
    "lag.head()"
   ]
  },
  {
   "cell_type": "markdown",
   "metadata": {},
   "source": [
    "As seen above the data set has 24,773 rows and 10 columns. From this view we can infer what types of data are present in the dataset. To be certain about the data types we take a look at them we use pandas' 'info' method. The dtypes attribute can also be used here. "
   ]
  },
  {
   "cell_type": "code",
   "execution_count": 159,
   "metadata": {},
   "outputs": [
    {
     "name": "stdout",
     "output_type": "stream",
     "text": [
      "<class 'pandas.core.frame.DataFrame'>\n",
      "Int64Index: 19074 entries, 0 to 24772\n",
      "Data columns (total 9 columns):\n",
      " #   Column         Non-Null Count  Dtype  \n",
      "---  ------         --------------  -----  \n",
      " 0   Beds           19074 non-null  float64\n",
      " 1   Baths          19074 non-null  float64\n",
      " 2   Toilets        19074 non-null  float64\n",
      " 3   Is_new         19074 non-null  object \n",
      " 4   Is_furnished   19074 non-null  object \n",
      " 5   Is_serviced    19074 non-null  object \n",
      " 6   Price          19074 non-null  float64\n",
      " 7   Property_type  19074 non-null  object \n",
      " 8   Location       19074 non-null  object \n",
      "dtypes: float64(4), object(5)\n",
      "memory usage: 1.5+ MB\n"
     ]
    }
   ],
   "source": [
    "# try to undertand data types\n",
    "lag.info()\n",
    "# lag.dtypes"
   ]
  },
  {
   "cell_type": "markdown",
   "metadata": {},
   "source": [
    "Most columns have data types assigned correctly but the Price column notably has its type as object, this means that the contents of that column are not all numbers. To correct this we take a closer look at the price column to assess what impurities are present."
   ]
  },
  {
   "cell_type": "code",
   "execution_count": 56,
   "metadata": {},
   "outputs": [
    {
     "data": {
      "text/plain": [
       "105             $440000\n",
       "134      130000000/year\n",
       "963            $1100000\n",
       "1024           $1500000\n",
       "1112     300000000/year\n",
       "              ...      \n",
       "23869          $1400000\n",
       "23897          $5000000\n",
       "23899       1500000/sqm\n",
       "24338          $2000000\n",
       "24484          $1500000\n",
       "Name: Price, Length: 408, dtype: object"
      ]
     },
     "execution_count": 56,
     "metadata": {},
     "output_type": "execute_result"
    }
   ],
   "source": [
    "# take closer look at price column\n",
    "lag['Price'][lag['Price'].str.contains(r'[^\\d.]', regex=True, na=False)]"
   ]
  },
  {
   "cell_type": "markdown",
   "metadata": {},
   "source": [
    "As the output above shows there are over 400 dirty entries in the  price column. Some prices are designated in dollars and some prices appear to be for rental properties, this should not be the case as this data is to supposed to contain only properties for sale. Now to clean the price column and change its data type to float. We make use of a list comprehension and the regular expressions 're' module just as we used above to weed out the dirty data."
   ]
  },
  {
   "cell_type": "code",
   "execution_count": 57,
   "metadata": {},
   "outputs": [],
   "source": [
    "lag[\"Price\"] = [float(re.findall(\"\\d+\", val.split(\"$\")[1])[0]) * 775 \\\n",
    "                if \"$\" in val else float(re.findall(\"\\d+\", val)[0])\\\n",
    "                      for val in lag['Price']]"
   ]
  },
  {
   "cell_type": "markdown",
   "metadata": {},
   "source": [
    "A brief explanation of the code above: The list comprehension loops through price column checks for values with Dollar signs, if they exist value is split into two, the dollar sign discarded then value is checked for other special characters,then the split portion is typecast to float and converted to Naira by multiplying by the exchange rate. The other part of the conditional handles the price rows with no dollar signs"
   ]
  },
  {
   "cell_type": "markdown",
   "metadata": {},
   "source": [
    "If the code previusly used to check if the price column had any dirty data is run an Attribute Error is returned as the column no longer has any string datatypes. The conversion to float was also successful because all symbols were successfuly removed."
   ]
  },
  {
   "cell_type": "markdown",
   "metadata": {},
   "source": [
    "Next up, check for missing values"
   ]
  },
  {
   "cell_type": "code",
   "execution_count": 58,
   "metadata": {},
   "outputs": [
    {
     "name": "stdout",
     "output_type": "stream",
     "text": [
      "Description     False\n",
      "Title           False\n",
      "Location        False\n",
      "Beds             True\n",
      "Baths            True\n",
      "Toilets          True\n",
      "Is_new          False\n",
      "Is_furnished    False\n",
      "Is_serviced     False\n",
      "Price           False\n",
      "dtype: bool\n",
      " \n",
      "Sum of missing values per column:\n"
     ]
    },
    {
     "data": {
      "text/plain": [
       "Description       0\n",
       "Title             0\n",
       "Location          0\n",
       "Beds            503\n",
       "Baths           603\n",
       "Toilets         619\n",
       "Is_new            0\n",
       "Is_furnished      0\n",
       "Is_serviced       0\n",
       "Price             0\n",
       "dtype: int64"
      ]
     },
     "execution_count": 58,
     "metadata": {},
     "output_type": "execute_result"
    }
   ],
   "source": [
    "# check for missing values\n",
    "print(lag.isna().any()) # to check if any columns have missing values\n",
    "print(' ')\n",
    "print('Sum of missing values per column:')\n",
    "lag.isna().sum() # to get a sum of missing values per column"
   ]
  },
  {
   "cell_type": "markdown",
   "metadata": {},
   "source": [
    "Important to note that while the 'any' method lets you know if any column has null values the 'sum' method applied lets you add the number of missing values to give a total per column."
   ]
  },
  {
   "cell_type": "markdown",
   "metadata": {},
   "source": [
    "The above output shows that only 3 columns have missing or unknown values. Now to know what percentage those missing values constitute per column."
   ]
  },
  {
   "cell_type": "code",
   "execution_count": 59,
   "metadata": {},
   "outputs": [
    {
     "name": "stdout",
     "output_type": "stream",
     "text": [
      "Percentage of missing values per column:\n",
      "Description     0.000000\n",
      "Title           0.000000\n",
      "Location        0.000000\n",
      "Beds            2.030436\n",
      "Baths           2.434102\n",
      "Toilets         2.498688\n",
      "Is_new          0.000000\n",
      "Is_furnished    0.000000\n",
      "Is_serviced     0.000000\n",
      "Price           0.000000\n",
      "dtype: float64\n"
     ]
    }
   ],
   "source": [
    "# to check percentage of missing values per column\n",
    "print('Percentage of missing values per column:')\n",
    "print((lag.isna().sum()/ len(lag) *100))"
   ]
  },
  {
   "cell_type": "markdown",
   "metadata": {},
   "source": [
    "The percentage of missing values in those 3 columns doesnt exceed 3% of each column so it is safe to conclude that dropping these columns will not have any adverse impact on the outcome of any predictive analysis to be carried out. So to drop the missing values use the 'dropna' method and set appropriate parameters."
   ]
  },
  {
   "cell_type": "code",
   "execution_count": 60,
   "metadata": {},
   "outputs": [],
   "source": [
    "# drop rows with missing values\n",
    "lag.dropna(axis=0, inplace=True)"
   ]
  },
  {
   "cell_type": "markdown",
   "metadata": {},
   "source": [
    "Next, check for duplicate data.Use the 'duplicated' method with the 'sum' method chained to it to get the number of missing values. Like below:"
   ]
  },
  {
   "cell_type": "code",
   "execution_count": 61,
   "metadata": {},
   "outputs": [
    {
     "data": {
      "text/plain": [
       "2150"
      ]
     },
     "execution_count": 61,
     "metadata": {},
     "output_type": "execute_result"
    }
   ],
   "source": [
    "# check for duplicates\n",
    "lag.duplicated().sum()"
   ]
  },
  {
   "cell_type": "markdown",
   "metadata": {},
   "source": [
    "A seen above there are 2150 duplicate rows in in the data.That data needs to be dropped."
   ]
  },
  {
   "cell_type": "code",
   "execution_count": 62,
   "metadata": {},
   "outputs": [],
   "source": [
    "# remove duplicates\n",
    "lag.drop_duplicates(inplace=True)"
   ]
  },
  {
   "cell_type": "markdown",
   "metadata": {},
   "source": [
    "Whitespace can cause all sorts of errors in analysis, so for each column that has string values, the whitespace must be removed."
   ]
  },
  {
   "cell_type": "code",
   "execution_count": 63,
   "metadata": {},
   "outputs": [],
   "source": [
    "# remove whitspace from string columns\n",
    "for col in lag.columns:\n",
    "        if lag[col].dtype == \"object\":\n",
    "            lag[col] = lag[col].str.strip()"
   ]
  },
  {
   "cell_type": "markdown",
   "metadata": {},
   "source": [
    "Some transformations need to be performed on the data, so reasonable insights can be extracted from the data."
   ]
  },
  {
   "cell_type": "code",
   "execution_count": 65,
   "metadata": {},
   "outputs": [],
   "source": [
    "# extract housetypes from the title column\n",
    "lag['House_type'] = lag['Title'].apply(lambda x: x.split(' ')[2])"
   ]
  },
  {
   "cell_type": "code",
   "execution_count": 66,
   "metadata": {},
   "outputs": [
    {
     "data": {
      "text/plain": [
       "HOUSE         16296\n",
       "FLAT           2578\n",
       "SALE           2087\n",
       "FOR             641\n",
       "APARTMENT       210\n",
       "COMMERCIAL      116\n",
       "LAND              7\n",
       "SPACE             2\n",
       "DETACHED          1\n",
       "Name: House_type, dtype: int64"
      ]
     },
     "execution_count": 66,
     "metadata": {},
     "output_type": "execute_result"
    }
   ],
   "source": [
    "lag.House_type.value_counts()"
   ]
  },
  {
   "cell_type": "code",
   "execution_count": 67,
   "metadata": {},
   "outputs": [],
   "source": [
    "odd_house_types = lag[(lag['House_type'] == 'LAND') | \\\n",
    "                      (lag['House_type'] == 'SALE') |\\\n",
    "                        (lag['House_type'] == 'FOR') | \\\n",
    "                             (lag['House_type'] == 'COMMERCIAL') | \\\n",
    "                             (lag['House_type'] == 'SPACE') | \\\n",
    "                             (lag['House_type'] == 'DETACHED')\n",
    "                             ].index"
   ]
  },
  {
   "cell_type": "markdown",
   "metadata": {},
   "source": [
    "The other house types that are not House, apartment or flat are referring to land or some commercial property and those are not fit for the purpose of predicting residential property sale prices."
   ]
  },
  {
   "cell_type": "code",
   "execution_count": 69,
   "metadata": {},
   "outputs": [],
   "source": [
    "# drop odd house types\n",
    "lag.drop(odd_house_types, axis=0,inplace=True)"
   ]
  },
  {
   "cell_type": "code",
   "execution_count": 70,
   "metadata": {},
   "outputs": [
    {
     "data": {
      "text/plain": [
       "HOUSE        16296\n",
       "FLAT          2578\n",
       "APARTMENT      210\n",
       "Name: House_type, dtype: int64"
      ]
     },
     "execution_count": 70,
     "metadata": {},
     "output_type": "execute_result"
    }
   ],
   "source": [
    "lag['House_type'].value_counts()"
   ]
  },
  {
   "cell_type": "code",
   "execution_count": 80,
   "metadata": {},
   "outputs": [],
   "source": [
    "# replace flat with just apartment\n",
    "lag['House_type'] = lag['House_type'].str.replace('FLAT', 'APARTMENT')"
   ]
  },
  {
   "cell_type": "code",
   "execution_count": 83,
   "metadata": {},
   "outputs": [],
   "source": [
    "# rename House_type column to Property_type\n",
    "lag.rename(columns={'House_type':'Property_type'}, inplace=True)"
   ]
  },
  {
   "cell_type": "code",
   "execution_count": 84,
   "metadata": {},
   "outputs": [],
   "source": [
    "# make values in column lower case\n",
    "lag['Property_type'] = lag['Property_type'].str.lower()"
   ]
  },
  {
   "cell_type": "markdown",
   "metadata": {},
   "source": [
    "Next, extract the unique locations or neighborhoods from the location's column and map to appropriate Local Government Areas."
   ]
  },
  {
   "cell_type": "code",
   "execution_count": 120,
   "metadata": {},
   "outputs": [],
   "source": [
    "# extract unique locations from the location column\n",
    "lag['neighborhood'] = lag['Location'].apply(lambda x: x.split(' ')[-2])\n",
    "lag['state'] = lag['Location'].apply(lambda x: x.split(' ')[-1])\n",
    "# lag.sub_Location.value_counts()"
   ]
  },
  {
   "cell_type": "markdown",
   "metadata": {},
   "source": [
    "Some properties are not in Lagos and so they must be removed."
   ]
  },
  {
   "cell_type": "code",
   "execution_count": 97,
   "metadata": {},
   "outputs": [],
   "source": [
    "# drop rows with data from locations not in Lagos\n",
    "odd_locations = lag[(lag['state']=='Ogun') | (lag['state']=='Oyo')].index\n",
    "lag.drop(odd_locations, axis=0, inplace=True)\n"
   ]
  },
  {
   "cell_type": "code",
   "execution_count": 121,
   "metadata": {},
   "outputs": [],
   "source": [
    "# to get uninque locations\n",
    "locations_lag = list(lag['neighborhood'].value_counts().index)"
   ]
  },
  {
   "cell_type": "code",
   "execution_count": 134,
   "metadata": {},
   "outputs": [
    {
     "data": {
      "text/plain": [
       "38"
      ]
     },
     "execution_count": 134,
     "metadata": {},
     "output_type": "execute_result"
    }
   ],
   "source": [
    "len(locations_lag)"
   ]
  },
  {
   "cell_type": "markdown",
   "metadata": {},
   "source": [
    "There are 38 unique locations in the neighborhood column. Now to map these locations to the Local government areas in Lagos. A dictionary is used, with the neighborhood used as key and the Local Government Area as a value. This dictionary is then passed to the replace function."
   ]
  },
  {
   "cell_type": "code",
   "execution_count": 138,
   "metadata": {},
   "outputs": [],
   "source": [
    "lga_dict = {'Lekki':'Eti-Osa', 'Ajah':'Eti-Osa', 'Ikoyi':'Eti-Osa', 'Ikeja':'Ikeja',\n",
    "            'Ojodu':'Ikeja', 'Island':'Eti-Osa','Alimosho':'Alimosho','Gbagada':'Kosofe','Ikosi':'Epe',\n",
    "            'Surulere':'Surulere','Ikorodu':'Ikorodu','Ipaja':'Alimosho','Yaba':'Lagos Mainland','Igando':'Alimosho',\n",
    "            'Isolo':'Oshodi-Isolo','Ogba':'Ifako-Ijaiye','Egba':'Alimosho','Maryland':'Kosofe','Igando':'Alimosho',\n",
    "            'Ogudu':'Kosofe','Okota':'Oshodi-Isolo','Agege':'Agege','Sangotedo':'Eti-Osa','Shomolu':'Shomolu','Odofin':'Amuwo-Odofin',\n",
    "            'Ilupeju':'Mushin','Ketu':'Kosofe','Idimu':'Alimosho','Iju':'Ifako-Ijaiye','Epe':'Epe','Oshodi':'Oshodi-Isolo','Ojota':'Kosofe',\n",
    "            'Ejigbo':'Oshodi-Isolo','Bariga':'Shomolu','Apapa':'Apapa','Ojo':'Ojo','Badagry':'Badagry','Mushin':'Mushin','Orile':'Agege'}\n",
    "\n",
    "lag = lag.replace({'neighborhood':lga_dict})"
   ]
  },
  {
   "cell_type": "markdown",
   "metadata": {},
   "source": [
    "Three columns contain numbers representing, yes or no. These columns also need to be looked at"
   ]
  },
  {
   "cell_type": "code",
   "execution_count": 89,
   "metadata": {},
   "outputs": [],
   "source": [
    "# replace 1 and 0 in is_new, is_furnished, is_serviced with yes or no\n",
    "map_cols = {1:'yes', 0:'no'}\n",
    "lag.replace({'Is_new':map_cols, 'Is_furnished':map_cols, 'Is_serviced':map_cols },inplace=True)"
   ]
  },
  {
   "cell_type": "markdown",
   "metadata": {},
   "source": [
    "This replacement can be avoided by making adjustments to the scrapper when scrapping to return yes or no instead of 1 or 0.The scrapper is the 'house_scrapper.py' script. These values will still be encoded later during model building but for analysis purposes the replacement is necessary."
   ]
  },
  {
   "cell_type": "markdown",
   "metadata": {},
   "source": [
    "Finally some unnecessary columns need to be dropped before the dataframe is saved to a csv file."
   ]
  },
  {
   "cell_type": "code",
   "execution_count": 142,
   "metadata": {},
   "outputs": [],
   "source": [
    "# drop unnecessary columns \n",
    "lag.drop(['Description', 'Title', 'Location','state'], axis=1, inplace=True)\n",
    "# rename sub_Location column\n",
    "lag.rename(columns={'neighborhood':'Location'}, inplace=True)"
   ]
  },
  {
   "cell_type": "markdown",
   "metadata": {},
   "source": [
    "Now one last look at the data before its is written to a new csv file titled 'cleaned_houses.csv' found in the data folder of the master branch."
   ]
  },
  {
   "cell_type": "code",
   "execution_count": 144,
   "metadata": {},
   "outputs": [
    {
     "name": "stdout",
     "output_type": "stream",
     "text": [
      "<class 'pandas.core.frame.DataFrame'>\n",
      "Int64Index: 19074 entries, 0 to 24772\n",
      "Data columns (total 9 columns):\n",
      " #   Column         Non-Null Count  Dtype  \n",
      "---  ------         --------------  -----  \n",
      " 0   Beds           19074 non-null  float64\n",
      " 1   Baths          19074 non-null  float64\n",
      " 2   Toilets        19074 non-null  float64\n",
      " 3   Is_new         19074 non-null  object \n",
      " 4   Is_furnished   19074 non-null  object \n",
      " 5   Is_serviced    19074 non-null  object \n",
      " 6   Price          19074 non-null  float64\n",
      " 7   Property_type  19074 non-null  object \n",
      " 8   Location       19074 non-null  object \n",
      "dtypes: float64(4), object(5)\n",
      "memory usage: 1.5+ MB\n"
     ]
    }
   ],
   "source": [
    "lag.info()"
   ]
  },
  {
   "cell_type": "code",
   "execution_count": 157,
   "metadata": {},
   "outputs": [],
   "source": [
    "# write clean data to csv file\n",
    "lag.to_csv(\"cleaned_houses.csv\", index=False)\n"
   ]
  }
 ],
 "metadata": {
  "kernelspec": {
   "display_name": "pprojenv",
   "language": "python",
   "name": "python3"
  },
  "language_info": {
   "codemirror_mode": {
    "name": "ipython",
    "version": 3
   },
   "file_extension": ".py",
   "mimetype": "text/x-python",
   "name": "python",
   "nbconvert_exporter": "python",
   "pygments_lexer": "ipython3",
   "version": "3.11.1"
  },
  "orig_nbformat": 4,
  "vscode": {
   "interpreter": {
    "hash": "5ac23a1eb32c93aaed7ccf8cddc248e911f9776ba7081da2f54b0d7ebba77505"
   }
  }
 },
 "nbformat": 4,
 "nbformat_minor": 2
}
